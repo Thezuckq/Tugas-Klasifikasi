{
 "cells": [
  {
   "cell_type": "code",
   "execution_count": 2,
   "metadata": {},
   "outputs": [],
   "source": [
    "import pandas as pd\n",
    "import numpy as np\n",
    "import seaborn as sns\n",
    "import matplotlib.pyplot as plt\n",
    "from sklearn.cluster import KMeans\n",
    "from sklearn.preprocessing import MinMaxScaler, LabelEncoder\n",
    "le = LabelEncoder()"
   ]
  },
  {
   "cell_type": "code",
   "execution_count": 10,
   "metadata": {},
   "outputs": [
    {
     "data": {
      "text/html": [
       "<div>\n",
       "<style scoped>\n",
       "    .dataframe tbody tr th:only-of-type {\n",
       "        vertical-align: middle;\n",
       "    }\n",
       "\n",
       "    .dataframe tbody tr th {\n",
       "        vertical-align: top;\n",
       "    }\n",
       "\n",
       "    .dataframe thead th {\n",
       "        text-align: right;\n",
       "    }\n",
       "</style>\n",
       "<table border=\"1\" class=\"dataframe\">\n",
       "  <thead>\n",
       "    <tr style=\"text-align: right;\">\n",
       "      <th></th>\n",
       "      <th>price</th>\n",
       "      <th>minimum_nights</th>\n",
       "      <th>number_of_reviews</th>\n",
       "      <th>reviews_per_month</th>\n",
       "      <th>calculated_host_listings_count</th>\n",
       "      <th>availability_365</th>\n",
       "      <th>Charlottenburg-Wilm.</th>\n",
       "      <th>Friedrichshain-Kreuzberg</th>\n",
       "      <th>Lichtenberg</th>\n",
       "      <th>Marzahn - Hellersdorf</th>\n",
       "      <th>Mitte</th>\n",
       "      <th>Neukölln</th>\n",
       "      <th>Pankow</th>\n",
       "      <th>Reinickendorf</th>\n",
       "      <th>Spandau</th>\n",
       "      <th>Steglitz - Zehlendorf</th>\n",
       "      <th>Tempelhof - Schöneberg</th>\n",
       "      <th>Treptow - Köpenick</th>\n",
       "      <th>room_type</th>\n",
       "    </tr>\n",
       "  </thead>\n",
       "  <tbody>\n",
       "    <tr>\n",
       "      <td>0</td>\n",
       "      <td>60</td>\n",
       "      <td>4</td>\n",
       "      <td>118</td>\n",
       "      <td>3.76</td>\n",
       "      <td>4</td>\n",
       "      <td>141</td>\n",
       "      <td>0</td>\n",
       "      <td>0</td>\n",
       "      <td>0</td>\n",
       "      <td>0</td>\n",
       "      <td>1</td>\n",
       "      <td>0</td>\n",
       "      <td>0</td>\n",
       "      <td>0</td>\n",
       "      <td>0</td>\n",
       "      <td>0</td>\n",
       "      <td>0</td>\n",
       "      <td>0</td>\n",
       "      <td>0</td>\n",
       "    </tr>\n",
       "    <tr>\n",
       "      <td>1</td>\n",
       "      <td>17</td>\n",
       "      <td>2</td>\n",
       "      <td>6</td>\n",
       "      <td>1.42</td>\n",
       "      <td>1</td>\n",
       "      <td>0</td>\n",
       "      <td>0</td>\n",
       "      <td>0</td>\n",
       "      <td>0</td>\n",
       "      <td>0</td>\n",
       "      <td>0</td>\n",
       "      <td>0</td>\n",
       "      <td>1</td>\n",
       "      <td>0</td>\n",
       "      <td>0</td>\n",
       "      <td>0</td>\n",
       "      <td>0</td>\n",
       "      <td>0</td>\n",
       "      <td>1</td>\n",
       "    </tr>\n",
       "    <tr>\n",
       "      <td>2</td>\n",
       "      <td>90</td>\n",
       "      <td>62</td>\n",
       "      <td>143</td>\n",
       "      <td>1.25</td>\n",
       "      <td>1</td>\n",
       "      <td>220</td>\n",
       "      <td>0</td>\n",
       "      <td>0</td>\n",
       "      <td>0</td>\n",
       "      <td>0</td>\n",
       "      <td>0</td>\n",
       "      <td>0</td>\n",
       "      <td>1</td>\n",
       "      <td>0</td>\n",
       "      <td>0</td>\n",
       "      <td>0</td>\n",
       "      <td>0</td>\n",
       "      <td>0</td>\n",
       "      <td>0</td>\n",
       "    </tr>\n",
       "    <tr>\n",
       "      <td>3</td>\n",
       "      <td>26</td>\n",
       "      <td>5</td>\n",
       "      <td>25</td>\n",
       "      <td>0.39</td>\n",
       "      <td>1</td>\n",
       "      <td>297</td>\n",
       "      <td>0</td>\n",
       "      <td>0</td>\n",
       "      <td>0</td>\n",
       "      <td>0</td>\n",
       "      <td>0</td>\n",
       "      <td>0</td>\n",
       "      <td>0</td>\n",
       "      <td>0</td>\n",
       "      <td>0</td>\n",
       "      <td>0</td>\n",
       "      <td>1</td>\n",
       "      <td>0</td>\n",
       "      <td>1</td>\n",
       "    </tr>\n",
       "    <tr>\n",
       "      <td>4</td>\n",
       "      <td>42</td>\n",
       "      <td>2</td>\n",
       "      <td>197</td>\n",
       "      <td>1.75</td>\n",
       "      <td>1</td>\n",
       "      <td>26</td>\n",
       "      <td>0</td>\n",
       "      <td>0</td>\n",
       "      <td>0</td>\n",
       "      <td>0</td>\n",
       "      <td>0</td>\n",
       "      <td>0</td>\n",
       "      <td>1</td>\n",
       "      <td>0</td>\n",
       "      <td>0</td>\n",
       "      <td>0</td>\n",
       "      <td>0</td>\n",
       "      <td>0</td>\n",
       "      <td>1</td>\n",
       "    </tr>\n",
       "  </tbody>\n",
       "</table>\n",
       "</div>"
      ],
      "text/plain": [
       "   price  minimum_nights  number_of_reviews  reviews_per_month  \\\n",
       "0     60               4                118               3.76   \n",
       "1     17               2                  6               1.42   \n",
       "2     90              62                143               1.25   \n",
       "3     26               5                 25               0.39   \n",
       "4     42               2                197               1.75   \n",
       "\n",
       "   calculated_host_listings_count  availability_365  Charlottenburg-Wilm.  \\\n",
       "0                               4               141                     0   \n",
       "1                               1                 0                     0   \n",
       "2                               1               220                     0   \n",
       "3                               1               297                     0   \n",
       "4                               1                26                     0   \n",
       "\n",
       "   Friedrichshain-Kreuzberg  Lichtenberg  Marzahn - Hellersdorf  Mitte  \\\n",
       "0                         0            0                      0      1   \n",
       "1                         0            0                      0      0   \n",
       "2                         0            0                      0      0   \n",
       "3                         0            0                      0      0   \n",
       "4                         0            0                      0      0   \n",
       "\n",
       "   Neukölln  Pankow  Reinickendorf  Spandau  Steglitz - Zehlendorf  \\\n",
       "0         0       0              0        0                      0   \n",
       "1         0       1              0        0                      0   \n",
       "2         0       1              0        0                      0   \n",
       "3         0       0              0        0                      0   \n",
       "4         0       1              0        0                      0   \n",
       "\n",
       "   Tempelhof - Schöneberg  Treptow - Köpenick  room_type  \n",
       "0                       0                   0          0  \n",
       "1                       0                   0          1  \n",
       "2                       0                   0          0  \n",
       "3                       1                   0          1  \n",
       "4                       0                   0          1  "
      ]
     },
     "execution_count": 10,
     "metadata": {},
     "output_type": "execute_result"
    }
   ],
   "source": [
    "df = pd.read_csv('airbnb_curated.csv').iloc[:,1:]\n",
    "X = pd.read_csv('X.csv').iloc[:,1:]\n",
    "df = X.join(pd.Series(le.fit_transform(df['room_type']),name='room_type'))\n",
    "df.head()"
   ]
  },
  {
   "cell_type": "code",
   "execution_count": 24,
   "metadata": {},
   "outputs": [
    {
     "data": {
      "text/html": [
       "<div>\n",
       "<style scoped>\n",
       "    .dataframe tbody tr th:only-of-type {\n",
       "        vertical-align: middle;\n",
       "    }\n",
       "\n",
       "    .dataframe tbody tr th {\n",
       "        vertical-align: top;\n",
       "    }\n",
       "\n",
       "    .dataframe thead th {\n",
       "        text-align: right;\n",
       "    }\n",
       "</style>\n",
       "<table border=\"1\" class=\"dataframe\">\n",
       "  <thead>\n",
       "    <tr style=\"text-align: right;\">\n",
       "      <th></th>\n",
       "      <th>price</th>\n",
       "      <th>minimum_nights</th>\n",
       "      <th>number_of_reviews</th>\n",
       "      <th>reviews_per_month</th>\n",
       "      <th>calculated_host_listings_count</th>\n",
       "      <th>availability_365</th>\n",
       "      <th>Charlottenburg-Wilm.</th>\n",
       "      <th>Friedrichshain-Kreuzberg</th>\n",
       "      <th>Lichtenberg</th>\n",
       "      <th>Marzahn - Hellersdorf</th>\n",
       "      <th>Mitte</th>\n",
       "      <th>Neukölln</th>\n",
       "      <th>Pankow</th>\n",
       "      <th>Reinickendorf</th>\n",
       "      <th>Spandau</th>\n",
       "      <th>Steglitz - Zehlendorf</th>\n",
       "      <th>Tempelhof - Schöneberg</th>\n",
       "      <th>Treptow - Köpenick</th>\n",
       "      <th>room_type</th>\n",
       "    </tr>\n",
       "  </thead>\n",
       "  <tbody>\n",
       "    <tr>\n",
       "      <td>count</td>\n",
       "      <td>22552.000000</td>\n",
       "      <td>22552.000000</td>\n",
       "      <td>22552.000000</td>\n",
       "      <td>22552.000000</td>\n",
       "      <td>22552.000000</td>\n",
       "      <td>22552.000000</td>\n",
       "      <td>22552.000000</td>\n",
       "      <td>22552.000000</td>\n",
       "      <td>22552.000000</td>\n",
       "      <td>22552.000000</td>\n",
       "      <td>22552.000000</td>\n",
       "      <td>22552.000000</td>\n",
       "      <td>22552.000000</td>\n",
       "      <td>22552.000000</td>\n",
       "      <td>22552.000000</td>\n",
       "      <td>22552.000000</td>\n",
       "      <td>22552.000000</td>\n",
       "      <td>22552.000000</td>\n",
       "      <td>22552.000000</td>\n",
       "    </tr>\n",
       "    <tr>\n",
       "      <td>mean</td>\n",
       "      <td>67.143668</td>\n",
       "      <td>7.157059</td>\n",
       "      <td>17.840679</td>\n",
       "      <td>1.032169</td>\n",
       "      <td>1.918233</td>\n",
       "      <td>79.852829</td>\n",
       "      <td>0.070592</td>\n",
       "      <td>0.243748</td>\n",
       "      <td>0.030507</td>\n",
       "      <td>0.006252</td>\n",
       "      <td>0.205348</td>\n",
       "      <td>0.155153</td>\n",
       "      <td>0.157015</td>\n",
       "      <td>0.010952</td>\n",
       "      <td>0.005498</td>\n",
       "      <td>0.019377</td>\n",
       "      <td>0.069173</td>\n",
       "      <td>0.026383</td>\n",
       "      <td>0.537691</td>\n",
       "    </tr>\n",
       "    <tr>\n",
       "      <td>std</td>\n",
       "      <td>220.266210</td>\n",
       "      <td>40.665073</td>\n",
       "      <td>36.769624</td>\n",
       "      <td>1.388509</td>\n",
       "      <td>3.667257</td>\n",
       "      <td>119.368162</td>\n",
       "      <td>0.256148</td>\n",
       "      <td>0.429352</td>\n",
       "      <td>0.171982</td>\n",
       "      <td>0.078825</td>\n",
       "      <td>0.403964</td>\n",
       "      <td>0.362058</td>\n",
       "      <td>0.363823</td>\n",
       "      <td>0.104082</td>\n",
       "      <td>0.073949</td>\n",
       "      <td>0.137851</td>\n",
       "      <td>0.253755</td>\n",
       "      <td>0.160276</td>\n",
       "      <td>0.524254</td>\n",
       "    </tr>\n",
       "    <tr>\n",
       "      <td>min</td>\n",
       "      <td>0.000000</td>\n",
       "      <td>1.000000</td>\n",
       "      <td>0.000000</td>\n",
       "      <td>0.010000</td>\n",
       "      <td>1.000000</td>\n",
       "      <td>0.000000</td>\n",
       "      <td>0.000000</td>\n",
       "      <td>0.000000</td>\n",
       "      <td>0.000000</td>\n",
       "      <td>0.000000</td>\n",
       "      <td>0.000000</td>\n",
       "      <td>0.000000</td>\n",
       "      <td>0.000000</td>\n",
       "      <td>0.000000</td>\n",
       "      <td>0.000000</td>\n",
       "      <td>0.000000</td>\n",
       "      <td>0.000000</td>\n",
       "      <td>0.000000</td>\n",
       "      <td>0.000000</td>\n",
       "    </tr>\n",
       "    <tr>\n",
       "      <td>25%</td>\n",
       "      <td>30.000000</td>\n",
       "      <td>2.000000</td>\n",
       "      <td>1.000000</td>\n",
       "      <td>0.220000</td>\n",
       "      <td>1.000000</td>\n",
       "      <td>0.000000</td>\n",
       "      <td>0.000000</td>\n",
       "      <td>0.000000</td>\n",
       "      <td>0.000000</td>\n",
       "      <td>0.000000</td>\n",
       "      <td>0.000000</td>\n",
       "      <td>0.000000</td>\n",
       "      <td>0.000000</td>\n",
       "      <td>0.000000</td>\n",
       "      <td>0.000000</td>\n",
       "      <td>0.000000</td>\n",
       "      <td>0.000000</td>\n",
       "      <td>0.000000</td>\n",
       "      <td>0.000000</td>\n",
       "    </tr>\n",
       "    <tr>\n",
       "      <td>50%</td>\n",
       "      <td>45.000000</td>\n",
       "      <td>2.000000</td>\n",
       "      <td>5.000000</td>\n",
       "      <td>0.540000</td>\n",
       "      <td>1.000000</td>\n",
       "      <td>4.000000</td>\n",
       "      <td>0.000000</td>\n",
       "      <td>0.000000</td>\n",
       "      <td>0.000000</td>\n",
       "      <td>0.000000</td>\n",
       "      <td>0.000000</td>\n",
       "      <td>0.000000</td>\n",
       "      <td>0.000000</td>\n",
       "      <td>0.000000</td>\n",
       "      <td>0.000000</td>\n",
       "      <td>0.000000</td>\n",
       "      <td>0.000000</td>\n",
       "      <td>0.000000</td>\n",
       "      <td>1.000000</td>\n",
       "    </tr>\n",
       "    <tr>\n",
       "      <td>75%</td>\n",
       "      <td>70.000000</td>\n",
       "      <td>4.000000</td>\n",
       "      <td>16.000000</td>\n",
       "      <td>1.180000</td>\n",
       "      <td>1.000000</td>\n",
       "      <td>129.000000</td>\n",
       "      <td>0.000000</td>\n",
       "      <td>0.000000</td>\n",
       "      <td>0.000000</td>\n",
       "      <td>0.000000</td>\n",
       "      <td>0.000000</td>\n",
       "      <td>0.000000</td>\n",
       "      <td>0.000000</td>\n",
       "      <td>0.000000</td>\n",
       "      <td>0.000000</td>\n",
       "      <td>0.000000</td>\n",
       "      <td>0.000000</td>\n",
       "      <td>0.000000</td>\n",
       "      <td>1.000000</td>\n",
       "    </tr>\n",
       "    <tr>\n",
       "      <td>max</td>\n",
       "      <td>9000.000000</td>\n",
       "      <td>5000.000000</td>\n",
       "      <td>498.000000</td>\n",
       "      <td>36.670000</td>\n",
       "      <td>45.000000</td>\n",
       "      <td>365.000000</td>\n",
       "      <td>1.000000</td>\n",
       "      <td>1.000000</td>\n",
       "      <td>1.000000</td>\n",
       "      <td>1.000000</td>\n",
       "      <td>1.000000</td>\n",
       "      <td>1.000000</td>\n",
       "      <td>1.000000</td>\n",
       "      <td>1.000000</td>\n",
       "      <td>1.000000</td>\n",
       "      <td>1.000000</td>\n",
       "      <td>1.000000</td>\n",
       "      <td>1.000000</td>\n",
       "      <td>2.000000</td>\n",
       "    </tr>\n",
       "  </tbody>\n",
       "</table>\n",
       "</div>"
      ],
      "text/plain": [
       "              price  minimum_nights  number_of_reviews  reviews_per_month  \\\n",
       "count  22552.000000    22552.000000       22552.000000       22552.000000   \n",
       "mean      67.143668        7.157059          17.840679           1.032169   \n",
       "std      220.266210       40.665073          36.769624           1.388509   \n",
       "min        0.000000        1.000000           0.000000           0.010000   \n",
       "25%       30.000000        2.000000           1.000000           0.220000   \n",
       "50%       45.000000        2.000000           5.000000           0.540000   \n",
       "75%       70.000000        4.000000          16.000000           1.180000   \n",
       "max     9000.000000     5000.000000         498.000000          36.670000   \n",
       "\n",
       "       calculated_host_listings_count  availability_365  Charlottenburg-Wilm.  \\\n",
       "count                    22552.000000      22552.000000          22552.000000   \n",
       "mean                         1.918233         79.852829              0.070592   \n",
       "std                          3.667257        119.368162              0.256148   \n",
       "min                          1.000000          0.000000              0.000000   \n",
       "25%                          1.000000          0.000000              0.000000   \n",
       "50%                          1.000000          4.000000              0.000000   \n",
       "75%                          1.000000        129.000000              0.000000   \n",
       "max                         45.000000        365.000000              1.000000   \n",
       "\n",
       "       Friedrichshain-Kreuzberg   Lichtenberg  Marzahn - Hellersdorf  \\\n",
       "count              22552.000000  22552.000000           22552.000000   \n",
       "mean                   0.243748      0.030507               0.006252   \n",
       "std                    0.429352      0.171982               0.078825   \n",
       "min                    0.000000      0.000000               0.000000   \n",
       "25%                    0.000000      0.000000               0.000000   \n",
       "50%                    0.000000      0.000000               0.000000   \n",
       "75%                    0.000000      0.000000               0.000000   \n",
       "max                    1.000000      1.000000               1.000000   \n",
       "\n",
       "              Mitte      Neukölln        Pankow  Reinickendorf       Spandau  \\\n",
       "count  22552.000000  22552.000000  22552.000000   22552.000000  22552.000000   \n",
       "mean       0.205348      0.155153      0.157015       0.010952      0.005498   \n",
       "std        0.403964      0.362058      0.363823       0.104082      0.073949   \n",
       "min        0.000000      0.000000      0.000000       0.000000      0.000000   \n",
       "25%        0.000000      0.000000      0.000000       0.000000      0.000000   \n",
       "50%        0.000000      0.000000      0.000000       0.000000      0.000000   \n",
       "75%        0.000000      0.000000      0.000000       0.000000      0.000000   \n",
       "max        1.000000      1.000000      1.000000       1.000000      1.000000   \n",
       "\n",
       "       Steglitz - Zehlendorf  Tempelhof - Schöneberg  Treptow - Köpenick  \\\n",
       "count           22552.000000            22552.000000        22552.000000   \n",
       "mean                0.019377                0.069173            0.026383   \n",
       "std                 0.137851                0.253755            0.160276   \n",
       "min                 0.000000                0.000000            0.000000   \n",
       "25%                 0.000000                0.000000            0.000000   \n",
       "50%                 0.000000                0.000000            0.000000   \n",
       "75%                 0.000000                0.000000            0.000000   \n",
       "max                 1.000000                1.000000            1.000000   \n",
       "\n",
       "          room_type  \n",
       "count  22552.000000  \n",
       "mean       0.537691  \n",
       "std        0.524254  \n",
       "min        0.000000  \n",
       "25%        0.000000  \n",
       "50%        1.000000  \n",
       "75%        1.000000  \n",
       "max        2.000000  "
      ]
     },
     "execution_count": 24,
     "metadata": {},
     "output_type": "execute_result"
    }
   ],
   "source": [
    "df.describe()"
   ]
  },
  {
   "cell_type": "code",
   "execution_count": 11,
   "metadata": {},
   "outputs": [
    {
     "name": "stdout",
     "output_type": "stream",
     "text": [
      "<class 'pandas.core.frame.DataFrame'>\n",
      "RangeIndex: 22552 entries, 0 to 22551\n",
      "Data columns (total 19 columns):\n",
      "price                             22552 non-null int64\n",
      "minimum_nights                    22552 non-null int64\n",
      "number_of_reviews                 22552 non-null int64\n",
      "reviews_per_month                 22552 non-null float64\n",
      "calculated_host_listings_count    22552 non-null int64\n",
      "availability_365                  22552 non-null int64\n",
      "Charlottenburg-Wilm.              22552 non-null int64\n",
      "Friedrichshain-Kreuzberg          22552 non-null int64\n",
      "Lichtenberg                       22552 non-null int64\n",
      "Marzahn - Hellersdorf             22552 non-null int64\n",
      "Mitte                             22552 non-null int64\n",
      "Neukölln                          22552 non-null int64\n",
      "Pankow                            22552 non-null int64\n",
      "Reinickendorf                     22552 non-null int64\n",
      "Spandau                           22552 non-null int64\n",
      "Steglitz - Zehlendorf             22552 non-null int64\n",
      "Tempelhof - Schöneberg            22552 non-null int64\n",
      "Treptow - Köpenick                22552 non-null int64\n",
      "room_type                         22552 non-null int32\n",
      "dtypes: float64(1), int32(1), int64(17)\n",
      "memory usage: 3.2 MB\n"
     ]
    }
   ],
   "source": [
    "df.info()"
   ]
  },
  {
   "cell_type": "markdown",
   "metadata": {},
   "source": [
    "# Dimentionality Reduction"
   ]
  },
  {
   "cell_type": "code",
   "execution_count": 20,
   "metadata": {},
   "outputs": [
    {
     "data": {
      "text/plain": [
       "array([[6.66666667e-03, 6.00120024e-04, 2.36947791e-01, ...,\n",
       "        0.00000000e+00, 0.00000000e+00, 0.00000000e+00],\n",
       "       [1.88888889e-03, 2.00040008e-04, 1.20481928e-02, ...,\n",
       "        0.00000000e+00, 0.00000000e+00, 0.00000000e+00],\n",
       "       [1.00000000e-02, 1.22024405e-02, 2.87148594e-01, ...,\n",
       "        0.00000000e+00, 0.00000000e+00, 0.00000000e+00],\n",
       "       ...,\n",
       "       [9.44444444e-03, 4.00080016e-04, 0.00000000e+00, ...,\n",
       "        0.00000000e+00, 0.00000000e+00, 0.00000000e+00],\n",
       "       [1.10000000e-02, 0.00000000e+00, 0.00000000e+00, ...,\n",
       "        0.00000000e+00, 0.00000000e+00, 0.00000000e+00],\n",
       "       [5.00000000e-03, 8.00160032e-04, 0.00000000e+00, ...,\n",
       "        0.00000000e+00, 0.00000000e+00, 0.00000000e+00]])"
      ]
     },
     "execution_count": 20,
     "metadata": {},
     "output_type": "execute_result"
    }
   ],
   "source": [
    "from sklearn.preprocessing import MinMaxScaler\n",
    "X = MinMaxScaler().fit_transform(X)\n",
    "X"
   ]
  },
  {
   "cell_type": "code",
   "execution_count": 21,
   "metadata": {},
   "outputs": [
    {
     "data": {
      "text/html": [
       "<div>\n",
       "<style scoped>\n",
       "    .dataframe tbody tr th:only-of-type {\n",
       "        vertical-align: middle;\n",
       "    }\n",
       "\n",
       "    .dataframe tbody tr th {\n",
       "        vertical-align: top;\n",
       "    }\n",
       "\n",
       "    .dataframe thead th {\n",
       "        text-align: right;\n",
       "    }\n",
       "</style>\n",
       "<table border=\"1\" class=\"dataframe\">\n",
       "  <thead>\n",
       "    <tr style=\"text-align: right;\">\n",
       "      <th></th>\n",
       "      <th>principal component 1</th>\n",
       "      <th>principal component 2</th>\n",
       "    </tr>\n",
       "  </thead>\n",
       "  <tbody>\n",
       "    <tr>\n",
       "      <td>0</td>\n",
       "      <td>-0.588402</td>\n",
       "      <td>0.641822</td>\n",
       "    </tr>\n",
       "    <tr>\n",
       "      <td>1</td>\n",
       "      <td>-0.165716</td>\n",
       "      <td>-0.537136</td>\n",
       "    </tr>\n",
       "    <tr>\n",
       "      <td>2</td>\n",
       "      <td>-0.208256</td>\n",
       "      <td>-0.502978</td>\n",
       "    </tr>\n",
       "    <tr>\n",
       "      <td>3</td>\n",
       "      <td>-0.121871</td>\n",
       "      <td>-0.090325</td>\n",
       "    </tr>\n",
       "    <tr>\n",
       "      <td>4</td>\n",
       "      <td>-0.172958</td>\n",
       "      <td>-0.529296</td>\n",
       "    </tr>\n",
       "  </tbody>\n",
       "</table>\n",
       "</div>"
      ],
      "text/plain": [
       "   principal component 1  principal component 2\n",
       "0              -0.588402               0.641822\n",
       "1              -0.165716              -0.537136\n",
       "2              -0.208256              -0.502978\n",
       "3              -0.121871              -0.090325\n",
       "4              -0.172958              -0.529296"
      ]
     },
     "execution_count": 21,
     "metadata": {},
     "output_type": "execute_result"
    }
   ],
   "source": [
    "from sklearn.decomposition import PCA\n",
    "pca = PCA(n_components=2)\n",
    "principalComponents = pca.fit_transform(X)\n",
    "principalDf = pd.DataFrame(data = principalComponents, columns = ['principal component 1', 'principal component 2'])\n",
    "principalDf.head()"
   ]
  },
  {
   "cell_type": "code",
   "execution_count": 23,
   "metadata": {},
   "outputs": [
    {
     "data": {
      "text/plain": [
       "<matplotlib.axes._subplots.AxesSubplot at 0x19c890ef248>"
      ]
     },
     "execution_count": 23,
     "metadata": {},
     "output_type": "execute_result"
    },
    {
     "data": {
      "image/png": "[encoded data removed]",
      "text/plain": [
       "<Figure size 432x288 with 1 Axes>"
      ]
     },
     "metadata": {
      "needs_background": "light"
     },
     "output_type": "display_data"
    }
   ],
   "source": [
    "sns.scatterplot(x=principalDf['principal component 1'],y=principalDf['principal component 2'])"
   ]
  },
  {
   "cell_type": "markdown",
   "metadata": {},
   "source": [
    "# K-Means Clustering"
   ]
  },
  {
   "cell_type": "code",
   "execution_count": 47,
   "metadata": {},
   "outputs": [
    {
     "data": {
      "text/plain": [
       "array([[-0.58840247,  0.641822  ],\n",
       "       [-0.16571646, -0.53713633],\n",
       "       [-0.20825566, -0.50297785],\n",
       "       ...,\n",
       "       [-0.16861825, -0.53490631],\n",
       "       [-0.5613195 ,  0.61920938],\n",
       "       [-0.15296754, -0.52421334]])"
      ]
     },
     "execution_count": 47,
     "metadata": {},
     "output_type": "execute_result"
    }
   ],
   "source": [
    "X = principalDf.copy().values\n",
    "X"
   ]
  },
  {
   "cell_type": "code",
   "execution_count": 66,
   "metadata": {},
   "outputs": [
    {
     "name": "stdout",
     "output_type": "stream",
     "text": [
      "dimention : 2\n"
     ]
    }
   ],
   "source": [
    "m=X.shape[0] #number of training examples\n",
    "n=X.shape[1] #number of features. Here n=2\n",
    "n_iter=1\n",
    "K=5 # number of clusters\n",
    "print('dimention :',n)"
   ]
  },
  {
   "cell_type": "code",
   "execution_count": 67,
   "metadata": {},
   "outputs": [],
   "source": [
    "Centroids=np.array([]).reshape(n,0) "
   ]
  },
  {
   "cell_type": "code",
   "execution_count": 68,
   "metadata": {},
   "outputs": [
    {
     "data": {
      "text/plain": [
       "array([[-0.1762998 , -0.55966836, -0.55967213,  0.79333833, -0.14910669],\n",
       "       [-0.52923133,  0.61760873,  0.61761226,  0.22827037, -0.52713617]])"
      ]
     },
     "execution_count": 68,
     "metadata": {},
     "output_type": "execute_result"
    }
   ],
   "source": [
    "for i in range(K):\n",
    "    rand=np.random.randint(0,m-1)\n",
    "    Centroids=np.c_[Centroids,X[rand]]\n",
    "Centroids"
   ]
  },
  {
   "cell_type": "code",
   "execution_count": 69,
   "metadata": {},
   "outputs": [],
   "source": [
    "Output={}"
   ]
  },
  {
   "cell_type": "code",
   "execution_count": 70,
   "metadata": {},
   "outputs": [],
   "source": [
    "EuclidianDistance=np.array([]).reshape(m,0)\n",
    "for k in range(K):\n",
    "    tempDist=np.sum((X-Centroids[:,k])**2,axis=1)\n",
    "    EuclidianDistance=np.c_[EuclidianDistance,tempDist]\n",
    "C=np.argmin(EuclidianDistance,axis=1)+1"
   ]
  },
  {
   "cell_type": "code",
   "execution_count": 71,
   "metadata": {},
   "outputs": [],
   "source": [
    "Y={}\n",
    "for k in range(K):\n",
    "    Y[k+1]=np.array([]).reshape(2,0)\n",
    "for i in range(m):\n",
    "    Y[C[i]]=np.c_[Y[C[i]],X[i]]\n",
    "     \n",
    "for k in range(K):\n",
    "    Y[k+1]=Y[k+1].T\n",
    "    \n",
    "for k in range(K):\n",
    "     Centroids[:,k]=np.mean(Y[k+1],axis=0)"
   ]
  },
  {
   "cell_type": "code",
   "execution_count": 72,
   "metadata": {},
   "outputs": [],
   "source": [
    "for i in range(n_iter):\n",
    "    EuclidianDistance=np.array([]).reshape(m,0)\n",
    "    for k in range(K):\n",
    "        tempDist=np.sum((X-Centroids[:,k])**2,axis=1)\n",
    "        EuclidianDistance=np.c_[EuclidianDistance,tempDist]\n",
    "        C=np.argmin(EuclidianDistance,axis=1)+1\n",
    "        Y={}\n",
    "        for k in range(K):\n",
    "            Y[k+1]=np.array([]).reshape(2,0)\n",
    "        for i in range(m):\n",
    "            Y[C[i]]=np.c_[Y[C[i]],X[i]]\n",
    "        for k in range(K):\n",
    "            Y[k+1]=Y[k+1].T\n",
    "        for k in range(K):\n",
    "            Centroids[:,k]=np.mean(Y[k+1],axis=0)\n",
    "        Output=Y"
   ]
  },
  {
   "cell_type": "code",
   "execution_count": 73,
   "metadata": {},
   "outputs": [
    {
     "data": {
      "image/png": "[encoded data removed]",
      "text/plain": [
       "<Figure size 432x288 with 1 Axes>"
      ]
     },
     "metadata": {
      "needs_background": "light"
     },
     "output_type": "display_data"
    }
   ],
   "source": [
    "plt.scatter(X[:,0],X[:,1],c='black',label='unclustered data')\n",
    "plt.xlabel('Income')\n",
    "plt.ylabel('Number of transactions')\n",
    "plt.legend()\n",
    "plt.title('Plot of data points')\n",
    "plt.show()"
   ]
  },
  {
   "cell_type": "code",
   "execution_count": 74,
   "metadata": {},
   "outputs": [
    {
     "data": {
      "image/png": "[encoded data removed]",
      "text/plain": [
       "<Figure size 432x288 with 1 Axes>"
      ]
     },
     "metadata": {
      "needs_background": "light"
     },
     "output_type": "display_data"
    }
   ],
   "source": [
    "color=['red','blue','green','cyan','magenta']\n",
    "labels=['cluster1','cluster2','cluster3','cluster4','cluster5']\n",
    "for k in range(K):\n",
    "    plt.scatter(Output[k+1][:,0],Output[k+1][:,1],c=color[k],label=labels[k])\n",
    "plt.scatter(Centroids[0,:],Centroids[1,:],s=300,c='yellow',label='Centroids')\n",
    "plt.xlabel('Income')\n",
    "plt.ylabel('Number of transactions')\n",
    "plt.legend()\n",
    "plt.show()"
   ]
  },
  {
   "cell_type": "code",
   "execution_count": null,
   "metadata": {},
   "outputs": [],
   "source": [
    "for i in range(1,10):\n",
    "    kmeans(k=i)"
   ]
  }
 ],
 "metadata": {
  "kernelspec": {
   "display_name": "Python 3",
   "language": "python",
   "name": "python3"
  },
  "language_info": {
   "codemirror_mode": {
    "name": "ipython",
    "version": 3
   },
   "file_extension": ".py",
   "mimetype": "text/x-python",
   "name": "python",
   "nbconvert_exporter": "python",
   "pygments_lexer": "ipython3",
   "version": "3.9.1"
  }
 },
 "nbformat": 4,
 "nbformat_minor": 2
}
